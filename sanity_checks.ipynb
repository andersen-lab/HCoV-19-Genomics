{
 "cells": [
  {
   "cell_type": "code",
   "execution_count": 1,
   "metadata": {},
   "outputs": [],
   "source": [
    "import pandas as pd"
   ]
  },
  {
   "cell_type": "code",
   "execution_count": 2,
   "metadata": {},
   "outputs": [],
   "source": [
    "# n_df = pd.read_csv('/valhalla/2021-03-17_release/metadata.csv')\n",
    "# n_df"
   ]
  },
  {
   "cell_type": "code",
   "execution_count": 3,
   "metadata": {},
   "outputs": [
    {
     "data": {
      "text/html": [
       "<div>\n",
       "<style scoped>\n",
       "    .dataframe tbody tr th:only-of-type {\n",
       "        vertical-align: middle;\n",
       "    }\n",
       "\n",
       "    .dataframe tbody tr th {\n",
       "        vertical-align: top;\n",
       "    }\n",
       "\n",
       "    .dataframe thead th {\n",
       "        text-align: right;\n",
       "    }\n",
       "</style>\n",
       "<table border=\"1\" class=\"dataframe\">\n",
       "  <thead>\n",
       "    <tr style=\"text-align: right;\">\n",
       "      <th></th>\n",
       "      <th>ID</th>\n",
       "      <th>gb_accession</th>\n",
       "      <th>gisaid_accession</th>\n",
       "      <th>collection_date</th>\n",
       "      <th>location</th>\n",
       "      <th>percent_coverage_cds</th>\n",
       "      <th>avg_depth</th>\n",
       "      <th>authors</th>\n",
       "      <th>originating_lab</th>\n",
       "      <th>fasta_hdr</th>\n",
       "      <th>zipcode</th>\n",
       "      <th>Coverage</th>\n",
       "    </tr>\n",
       "  </thead>\n",
       "  <tbody>\n",
       "    <tr>\n",
       "      <th>0</th>\n",
       "      <td>MG0987</td>\n",
       "      <td>MT598172</td>\n",
       "      <td>EPI_ISL_416457</td>\n",
       "      <td>2020-03-18</td>\n",
       "      <td>USA/California/San Diego</td>\n",
       "      <td>99.5954</td>\n",
       "      <td>2465.60</td>\n",
       "      <td>SEARCH Alliance San Diego</td>\n",
       "      <td>Andersen lab at Scripps Research</td>\n",
       "      <td>Consensus_MG0987</td>\n",
       "      <td>NaN</td>\n",
       "      <td>NaN</td>\n",
       "    </tr>\n",
       "    <tr>\n",
       "      <th>1</th>\n",
       "      <td>PC00101P</td>\n",
       "      <td>MT192765</td>\n",
       "      <td>EPI_ISL_414648</td>\n",
       "      <td>2020-03-11</td>\n",
       "      <td>USA/California/San Diego</td>\n",
       "      <td>99.7525</td>\n",
       "      <td>3516.14</td>\n",
       "      <td>SEARCH Alliance San Diego</td>\n",
       "      <td>Andersen lab at Scripps Research</td>\n",
       "      <td>Consensus_PC00101P_threshold_0_quality_20</td>\n",
       "      <td>NaN</td>\n",
       "      <td>NaN</td>\n",
       "    </tr>\n",
       "    <tr>\n",
       "      <th>2</th>\n",
       "      <td>SEARCH-0007-SAN</td>\n",
       "      <td>MT598171</td>\n",
       "      <td>EPI_ISL_429990</td>\n",
       "      <td>2020-03-21</td>\n",
       "      <td>USA/California/San Diego</td>\n",
       "      <td>100.0000</td>\n",
       "      <td>6215.17</td>\n",
       "      <td>SEARCH Alliance San Diego with Christina Clark...</td>\n",
       "      <td>Rady Children’s Hospital</td>\n",
       "      <td>Consensus_SEARCH-0007-SAN_L1_threshold_0_quali...</td>\n",
       "      <td>NaN</td>\n",
       "      <td>NaN</td>\n",
       "    </tr>\n",
       "    <tr>\n",
       "      <th>3</th>\n",
       "      <td>SEARCH-0016-SAN</td>\n",
       "      <td>MT598173</td>\n",
       "      <td>EPI_ISL_430016</td>\n",
       "      <td>2020-03-24</td>\n",
       "      <td>USA/California/San Diego</td>\n",
       "      <td>100.0000</td>\n",
       "      <td>6440.67</td>\n",
       "      <td>SEARCH Alliance San Diego</td>\n",
       "      <td>Andersen lab at Scripps Research</td>\n",
       "      <td>Consensus_SEARCH-0016-SAN_L1_threshold_0_quali...</td>\n",
       "      <td>NaN</td>\n",
       "      <td>NaN</td>\n",
       "    </tr>\n",
       "    <tr>\n",
       "      <th>4</th>\n",
       "      <td>SEARCH-0017-SAN</td>\n",
       "      <td>MT598174</td>\n",
       "      <td>EPI_ISL_429991</td>\n",
       "      <td>2020-03-24</td>\n",
       "      <td>USA/California/San Diego</td>\n",
       "      <td>100.0000</td>\n",
       "      <td>4947.09</td>\n",
       "      <td>SEARCH Alliance San Diego</td>\n",
       "      <td>Andersen lab at Scripps Research</td>\n",
       "      <td>Consensus_SEARCH-0017-SAN_L1_threshold_0_quali...</td>\n",
       "      <td>NaN</td>\n",
       "      <td>NaN</td>\n",
       "    </tr>\n",
       "    <tr>\n",
       "      <th>...</th>\n",
       "      <td>...</td>\n",
       "      <td>...</td>\n",
       "      <td>...</td>\n",
       "      <td>...</td>\n",
       "      <td>...</td>\n",
       "      <td>...</td>\n",
       "      <td>...</td>\n",
       "      <td>...</td>\n",
       "      <td>...</td>\n",
       "      <td>...</td>\n",
       "      <td>...</td>\n",
       "      <td>...</td>\n",
       "    </tr>\n",
       "    <tr>\n",
       "      <th>5561</th>\n",
       "      <td>SEARCH-8282</td>\n",
       "      <td>NaN</td>\n",
       "      <td>NaN</td>\n",
       "      <td>2021-03-06</td>\n",
       "      <td>USA/California/San Diego</td>\n",
       "      <td>95.4912</td>\n",
       "      <td>NaN</td>\n",
       "      <td>SEARCH Alliance San Diego with Aaron Harding, ...</td>\n",
       "      <td>Sharp HealthCare Laboratory</td>\n",
       "      <td>hCoV-19/USA/SEARCH-8282/2021</td>\n",
       "      <td>NaN</td>\n",
       "      <td>95.5</td>\n",
       "    </tr>\n",
       "    <tr>\n",
       "      <th>5562</th>\n",
       "      <td>SEARCH-8283</td>\n",
       "      <td>NaN</td>\n",
       "      <td>NaN</td>\n",
       "      <td>2021-03-05</td>\n",
       "      <td>USA/California/San Diego</td>\n",
       "      <td>96.0488</td>\n",
       "      <td>NaN</td>\n",
       "      <td>SEARCH Alliance San Diego with Aaron Harding, ...</td>\n",
       "      <td>Sharp HealthCare Laboratory</td>\n",
       "      <td>hCoV-19/USA/SEARCH-8283/2021</td>\n",
       "      <td>NaN</td>\n",
       "      <td>96.0</td>\n",
       "    </tr>\n",
       "    <tr>\n",
       "      <th>5563</th>\n",
       "      <td>SEARCH-8284</td>\n",
       "      <td>NaN</td>\n",
       "      <td>NaN</td>\n",
       "      <td>2021-03-05</td>\n",
       "      <td>USA/California/San Diego</td>\n",
       "      <td>100.0000</td>\n",
       "      <td>NaN</td>\n",
       "      <td>SEARCH Alliance San Diego with Aaron Harding, ...</td>\n",
       "      <td>Sharp HealthCare Laboratory</td>\n",
       "      <td>hCoV-19/USA/SEARCH-8284/2021</td>\n",
       "      <td>NaN</td>\n",
       "      <td>100.0</td>\n",
       "    </tr>\n",
       "    <tr>\n",
       "      <th>5564</th>\n",
       "      <td>SEARCH-8285</td>\n",
       "      <td>NaN</td>\n",
       "      <td>NaN</td>\n",
       "      <td>2021-03-05</td>\n",
       "      <td>USA/California/San Diego</td>\n",
       "      <td>100.0000</td>\n",
       "      <td>NaN</td>\n",
       "      <td>SEARCH Alliance San Diego with Aaron Harding, ...</td>\n",
       "      <td>Sharp HealthCare Laboratory</td>\n",
       "      <td>hCoV-19/USA/SEARCH-8285/2021</td>\n",
       "      <td>NaN</td>\n",
       "      <td>100.0</td>\n",
       "    </tr>\n",
       "    <tr>\n",
       "      <th>5565</th>\n",
       "      <td>SEARCH-8286</td>\n",
       "      <td>NaN</td>\n",
       "      <td>NaN</td>\n",
       "      <td>2021-03-05</td>\n",
       "      <td>USA/California/San Diego</td>\n",
       "      <td>95.5626</td>\n",
       "      <td>NaN</td>\n",
       "      <td>SEARCH Alliance San Diego with Aaron Harding, ...</td>\n",
       "      <td>Sharp HealthCare Laboratory</td>\n",
       "      <td>hCoV-19/USA/SEARCH-8286/2021</td>\n",
       "      <td>NaN</td>\n",
       "      <td>95.6</td>\n",
       "    </tr>\n",
       "  </tbody>\n",
       "</table>\n",
       "<p>5566 rows × 12 columns</p>\n",
       "</div>"
      ],
      "text/plain": [
       "                   ID gb_accession gisaid_accession collection_date  \\\n",
       "0              MG0987     MT598172   EPI_ISL_416457      2020-03-18   \n",
       "1            PC00101P     MT192765   EPI_ISL_414648      2020-03-11   \n",
       "2     SEARCH-0007-SAN     MT598171   EPI_ISL_429990      2020-03-21   \n",
       "3     SEARCH-0016-SAN     MT598173   EPI_ISL_430016      2020-03-24   \n",
       "4     SEARCH-0017-SAN     MT598174   EPI_ISL_429991      2020-03-24   \n",
       "...               ...          ...              ...             ...   \n",
       "5561      SEARCH-8282          NaN              NaN      2021-03-06   \n",
       "5562      SEARCH-8283          NaN              NaN      2021-03-05   \n",
       "5563      SEARCH-8284          NaN              NaN      2021-03-05   \n",
       "5564      SEARCH-8285          NaN              NaN      2021-03-05   \n",
       "5565      SEARCH-8286          NaN              NaN      2021-03-05   \n",
       "\n",
       "                      location  percent_coverage_cds  avg_depth  \\\n",
       "0     USA/California/San Diego               99.5954    2465.60   \n",
       "1     USA/California/San Diego               99.7525    3516.14   \n",
       "2     USA/California/San Diego              100.0000    6215.17   \n",
       "3     USA/California/San Diego              100.0000    6440.67   \n",
       "4     USA/California/San Diego              100.0000    4947.09   \n",
       "...                        ...                   ...        ...   \n",
       "5561  USA/California/San Diego               95.4912        NaN   \n",
       "5562  USA/California/San Diego               96.0488        NaN   \n",
       "5563  USA/California/San Diego              100.0000        NaN   \n",
       "5564  USA/California/San Diego              100.0000        NaN   \n",
       "5565  USA/California/San Diego               95.5626        NaN   \n",
       "\n",
       "                                                authors  \\\n",
       "0                             SEARCH Alliance San Diego   \n",
       "1                             SEARCH Alliance San Diego   \n",
       "2     SEARCH Alliance San Diego with Christina Clark...   \n",
       "3                             SEARCH Alliance San Diego   \n",
       "4                             SEARCH Alliance San Diego   \n",
       "...                                                 ...   \n",
       "5561  SEARCH Alliance San Diego with Aaron Harding, ...   \n",
       "5562  SEARCH Alliance San Diego with Aaron Harding, ...   \n",
       "5563  SEARCH Alliance San Diego with Aaron Harding, ...   \n",
       "5564  SEARCH Alliance San Diego with Aaron Harding, ...   \n",
       "5565  SEARCH Alliance San Diego with Aaron Harding, ...   \n",
       "\n",
       "                       originating_lab  \\\n",
       "0     Andersen lab at Scripps Research   \n",
       "1     Andersen lab at Scripps Research   \n",
       "2             Rady Children’s Hospital   \n",
       "3     Andersen lab at Scripps Research   \n",
       "4     Andersen lab at Scripps Research   \n",
       "...                                ...   \n",
       "5561       Sharp HealthCare Laboratory   \n",
       "5562       Sharp HealthCare Laboratory   \n",
       "5563       Sharp HealthCare Laboratory   \n",
       "5564       Sharp HealthCare Laboratory   \n",
       "5565       Sharp HealthCare Laboratory   \n",
       "\n",
       "                                              fasta_hdr  zipcode  Coverage  \n",
       "0                                      Consensus_MG0987      NaN       NaN  \n",
       "1             Consensus_PC00101P_threshold_0_quality_20      NaN       NaN  \n",
       "2     Consensus_SEARCH-0007-SAN_L1_threshold_0_quali...      NaN       NaN  \n",
       "3     Consensus_SEARCH-0016-SAN_L1_threshold_0_quali...      NaN       NaN  \n",
       "4     Consensus_SEARCH-0017-SAN_L1_threshold_0_quali...      NaN       NaN  \n",
       "...                                                 ...      ...       ...  \n",
       "5561                       hCoV-19/USA/SEARCH-8282/2021      NaN      95.5  \n",
       "5562                       hCoV-19/USA/SEARCH-8283/2021      NaN      96.0  \n",
       "5563                       hCoV-19/USA/SEARCH-8284/2021      NaN     100.0  \n",
       "5564                       hCoV-19/USA/SEARCH-8285/2021      NaN     100.0  \n",
       "5565                       hCoV-19/USA/SEARCH-8286/2021      NaN      95.6  \n",
       "\n",
       "[5566 rows x 12 columns]"
      ]
     },
     "execution_count": 3,
     "metadata": {},
     "output_type": "execute_result"
    }
   ],
   "source": [
    "df = pd.read_csv('metadata.csv')\n",
    "# pd.to_datetime(df['collection_date'].astype(str))\n",
    "df"
   ]
  },
  {
   "cell_type": "code",
   "execution_count": 6,
   "metadata": {},
   "outputs": [
    {
     "data": {
      "text/plain": [
       "4"
      ]
     },
     "execution_count": 6,
     "metadata": {},
     "output_type": "execute_result"
    }
   ],
   "source": [
    "# tijuana\n",
    "297-293"
   ]
  },
  {
   "cell_type": "code",
   "execution_count": 7,
   "metadata": {},
   "outputs": [
    {
     "data": {
      "text/plain": [
       "1"
      ]
     },
     "execution_count": 7,
     "metadata": {},
     "output_type": "execute_result"
    }
   ],
   "source": [
    "# LA\n",
    "10 - 9"
   ]
  },
  {
   "cell_type": "code",
   "execution_count": 8,
   "metadata": {},
   "outputs": [
    {
     "data": {
      "text/plain": [
       "1"
      ]
     },
     "execution_count": 8,
     "metadata": {},
     "output_type": "execute_result"
    }
   ],
   "source": [
    "# riverside\n",
    "32-31"
   ]
  },
  {
   "cell_type": "code",
   "execution_count": 9,
   "metadata": {},
   "outputs": [
    {
     "data": {
      "text/plain": [
       "262"
      ]
     },
     "execution_count": 9,
     "metadata": {},
     "output_type": "execute_result"
    }
   ],
   "source": [
    "# SD\n",
    "4308 -4046"
   ]
  },
  {
   "cell_type": "code",
   "execution_count": 12,
   "metadata": {},
   "outputs": [],
   "source": [
    "df.loc[df['location'].str.contains('MEX'), 'location'] = 'Mexico/Baja California/Tijuana'"
   ]
  },
  {
   "cell_type": "code",
   "execution_count": 13,
   "metadata": {},
   "outputs": [],
   "source": [
    "df.to_csv('/home/al/code/HCoV-19-Genomics/metadata.csv', index=False)"
   ]
  },
  {
   "cell_type": "code",
   "execution_count": 5,
   "metadata": {},
   "outputs": [
    {
     "data": {
      "text/plain": [
       "Jordan/Amman                            483\n",
       "Jordan/Aqaba                             41\n",
       "Jordan/Irbid                             58\n",
       "Jordan/Mafraq                             2\n",
       "Jordan/Zarqa                              5\n",
       "MEX/Baja California/Tijuana               5\n",
       "Mexico/Baja California/Ensenada           1\n",
       "Mexico/Baja California/Mexicali           1\n",
       "Mexico/Baja California/Rosarito           1\n",
       "Mexico/Baja California/Tijuana          292\n",
       "Mexico/Sonora/San Luis Río Colorado       2\n",
       "USA/Arizona/Yuma                          1\n",
       "USA/California/Cruise_Ship_1              8\n",
       "USA/California/Cruise_Ship_2             32\n",
       "USA/California/Imperial                 131\n",
       "USA/California/Kern                       1\n",
       "USA/California/Los Angeles               10\n",
       "USA/California/Modesto                    1\n",
       "USA/California/Orange                     3\n",
       "USA/California/Riverside                 32\n",
       "USA/California/San Bernardino             2\n",
       "USA/California/San Diego               4308\n",
       "USA/California/Santa Barbara              1\n",
       "USA/California/Ventura                    1\n",
       "USA/Louisiana/New Orleans               143\n",
       "USA/West Virginia/Kanawha                 1\n",
       "Name: location, dtype: int64"
      ]
     },
     "execution_count": 5,
     "metadata": {},
     "output_type": "execute_result"
    }
   ],
   "source": [
    "df['location'].value_counts().sort_index()"
   ]
  },
  {
   "cell_type": "code",
   "execution_count": 12,
   "metadata": {},
   "outputs": [],
   "source": [
    "n_df = pd.read_csv('/valhalla/2021-03-17_release/metadata.csv')\n",
    "n_df.drop(columns=['Coverage'], inplace=True)\n",
    "n_df.to_csv('/valhalla/2021-03-17_release/metadata.csv', index=False)"
   ]
  },
  {
   "cell_type": "code",
   "execution_count": null,
   "metadata": {},
   "outputs": [],
   "source": []
  }
 ],
 "metadata": {
  "kernelspec": {
   "display_name": "Python 3",
   "language": "python",
   "name": "python3"
  },
  "language_info": {
   "codemirror_mode": {
    "name": "ipython",
    "version": 3
   },
   "file_extension": ".py",
   "mimetype": "text/x-python",
   "name": "python",
   "nbconvert_exporter": "python",
   "pygments_lexer": "ipython3",
   "version": "3.8.5"
  }
 },
 "nbformat": 4,
 "nbformat_minor": 4
}
